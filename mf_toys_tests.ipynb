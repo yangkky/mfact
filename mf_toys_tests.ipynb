{
 "cells": [
  {
   "cell_type": "code",
   "execution_count": null,
   "metadata": {},
   "outputs": [],
   "source": [
    "# Test script for mf_toys\n",
    "import sys, traceback\n",
    "import nose\n",
    "import unittest\n",
    "from mfact import kpmf as mf\n",
    "import torch\n",
    "from torch.autograd import Variable\n",
    "import numpy as np"
   ]
  },
  {
   "cell_type": "code",
   "execution_count": null,
   "metadata": {
    "collapsed": true
   },
   "outputs": [],
   "source": [
    "def test_init():\n",
    "    test = [(500, 200, 100), (345, 123, 233), (120, 240, 29), (202, 800, 200)]\n",
    "    for row, col, rank in test:\n",
    "        model = mf.FactorModel(row, col, rank) # U and V are model weights\n",
    "        \n",
    "        # size of layer weights of U\n",
    "        n_row, r = model.U.weight.data.size() \n",
    "        assert n_row == row\n",
    "        assert r == rank\n",
    "        \n",
    "        # size of layer weights of V\n",
    "        n_col, r = model.V.weight.data.size()\n",
    "        assert n_col == col\n",
    "        assert r == rank"
   ]
  },
  {
   "cell_type": "code",
   "execution_count": null,
   "metadata": {
    "collapsed": true
   },
   "outputs": [],
   "source": [
    "def test_forward():\n",
    "    n_rows = 300\n",
    "    n_cols = 20\n",
    "    rank_actual = 2\n",
    "\n",
    "    sigma = 0.000005\n",
    "\n",
    "    # Covariance matrices\n",
    "    row_info = np.random.random((n_rows, rank_actual))\n",
    "    col_info = np.random.random((n_cols, rank_actual))\n",
    "    row_info = Variable(torch.Tensor(row_info))\n",
    "    col_info = Variable(torch.Tensor(col_info))\n",
    "\n",
    "    k = mf.SEKernel()\n",
    "    K_U = k(row_info, row_info)\n",
    "    K_V = k(col_info, col_info)\n",
    "    S_U = K_U.inverse()\n",
    "    S_V = K_V.inverse()\n",
    "\n",
    "    # targets, randomly generated vector (no need for U_actual, V_actual)\n",
    "    targets = np.random.random_sample((128, )) # randomly generated numpy\n",
    "    targets = Variable(torch.from_numpy(targets)) # convert to torch variable\n",
    "    targets = targets.type(torch.FloatTensor) # convert to FloatTensor\n",
    "\n",
    "    # preds, randomly generated vector from U and V (sim from model) - from forward\n",
    "    model = mf.FactorModel(n_rows, n_cols, rank_actual)\n",
    "    row = np.random.randint(5, size=(128, 1)) # random numpy rows for 1 batch \n",
    "    col = np.random.randint(5, size=(128, 1)) # random numpy cols for 1 batch\n",
    "    row = Variable(torch.from_numpy(row)) # convert to torch variable\n",
    "    col = Variable(torch.from_numpy(col)) # convert to torch variable\n",
    "    preds = model(row, col) # forward to get predictions\n",
    "\n",
    "    # Creating loss object\n",
    "    loss_function = mf.KPMFLoss(sigma, K_U, K_V)\n",
    "\n",
    "    # loss calculated by KPMFLoss in mf_toys\n",
    "    loss = loss_function(preds, targets, model.U._parameters['weight'], model.V._parameters['weight'])\n",
    "\n",
    "    # calculating loss using numpy\n",
    "\n",
    "    # Likelihood, model weights U and V\n",
    "    U = model.U._parameters['weight']\n",
    "    V = model.V._parameters['weight']\n",
    "    U_n = U.data.numpy()\n",
    "    V_n = V.data.numpy()\n",
    "    like = np.sum((preds.data.numpy() - targets.data.numpy()) ** 2)\n",
    "    like /= 2.0 * sigma ** 2\n",
    "    U_loss = 0\n",
    "    for u in U_n.T:\n",
    "        u = np.expand_dims(u, 0)\n",
    "        U_loss += u @ S_U.data.numpy() @ u.T / 2\n",
    "    U_loss = U_loss[0, 0]\n",
    "    V_loss = 0\n",
    "    for v in V_n.T:\n",
    "        v = np.expand_dims(v, 0)\n",
    "        V_loss += v @ S_V.data.numpy() @ v.T / 2\n",
    "    V_loss = V_loss[0, 0]\n",
    "    loss = np.array([L.data.numpy() for L in loss])\n",
    "    assert np.isclose(like, loss[0])\n",
    "    assert np.isclose(U_loss, loss[1])\n",
    "    assert np.isclose(V_loss, loss[2])\n",
    "    print(like, U_loss, V_loss)"
   ]
  },
  {
   "cell_type": "code",
   "execution_count": null,
   "metadata": {
    "collapsed": true
   },
   "outputs": [],
   "source": [
    "print('--> TEST_INIT')\n",
    "test_init()\n",
    "    \n",
    "print('--> TEST_forward')\n",
    "test_forward()"
   ]
  }
 ],
 "metadata": {
  "kernelspec": {
   "display_name": "Python 3",
   "language": "python",
   "name": "python3"
  },
  "language_info": {
   "codemirror_mode": {
    "name": "ipython",
    "version": 3
   },
   "file_extension": ".py",
   "mimetype": "text/x-python",
   "name": "python",
   "nbconvert_exporter": "python",
   "pygments_lexer": "ipython3",
   "version": "3.6.1"
  }
 },
 "nbformat": 4,
 "nbformat_minor": 2
}
